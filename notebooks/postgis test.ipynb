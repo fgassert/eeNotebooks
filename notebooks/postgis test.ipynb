{
 "cells": [
  {
   "cell_type": "code",
   "execution_count": 102,
   "metadata": {},
   "outputs": [],
   "source": [
    "import psycopg2\n",
    "import os\n",
    "import requests\n",
    "import time\n",
    "import shapely.wkb\n",
    "import shapely.ops\n",
    "import sys\n",
    "import pyproj\n",
    "from functools import partial"
   ]
  },
  {
   "cell_type": "code",
   "execution_count": 74,
   "metadata": {},
   "outputs": [],
   "source": [
    "# setup postgis connecton funcitons\n",
    "pg_user=os.environ.get('POSTGIS_ENV_POSTGRES_USER')\n",
    "pg_pass=os.environ.get('POSTGIS_ENV_POSTGRES_PASSWORD')\n",
    "pg_host=os.environ.get('POSTGIS_PORT_5432_TCP_ADDR')\n",
    "pg_port=os.environ.get('POSTGIS_PORT_5432_TCP_PORT')\n",
    "\n",
    "def postgis(query):\n",
    "    conn = psycopg2.connect(user=pg_user, \n",
    "                        password=pg_pass,\n",
    "                        host=pg_host,\n",
    "                        port=pg_port\n",
    "                       )\n",
    "    cur = conn.cursor()\n",
    "    cur.execute(query)\n",
    "    r = list(cur.fetchall())\n",
    "    cur.close()\n",
    "    conn.close()\n",
    "    return r"
   ]
  },
  {
   "cell_type": "code",
   "execution_count": 33,
   "metadata": {},
   "outputs": [],
   "source": [
    "# setup carto connection funcitons\n",
    "CARTO_URL = 'https://{}.carto.com/api/v2/sql'\n",
    "CARTO_USER = 'wri-01'\n",
    "CARTO_KEY = os.environ.get('CARTO_KEY')\n",
    "\n",
    "def sendSql(sql, user=None, key=None):\n",
    "    '''Send arbitrary sql and return response object or False'''\n",
    "    user = user or CARTO_USER\n",
    "    key = key or CARTO_KEY\n",
    "    url = CARTO_URL.format(user)\n",
    "    payload = {\n",
    "        'api_key': key,\n",
    "        'q': sql,\n",
    "    }\n",
    "    r = requests.post(url, json=payload)\n",
    "    if (r.status_code >= 400):\n",
    "        try:\n",
    "            msg = r.json()['error'][0]\n",
    "        except:\n",
    "            r.raise_for_status()\n",
    "        raise Exception(msg)\n",
    "    return r.json()"
   ]
  },
  {
   "cell_type": "code",
   "execution_count": null,
   "metadata": {},
   "outputs": [],
   "source": [
    "# get test geoms\n",
    "gadm_table2 = 'gadm36_adm2'\n",
    "wdpa_table = 'wdpa_protected_areas'\n",
    "\n",
    "query = \"\"\"\n",
    "select cartodb_id, gid_2 from {} where gid_2 in ('USA.2.13_1', 'USA.2.18_1', 'USA.2.2_1')\n",
    "\"\"\".format(gadm_table2)\n",
    "ids = [r['cartodb_id'] for r in sendSql(query)['rows']]\n",
    "tolerance = 0.083333\n",
    "\n",
    "start = time.perf_counter()\n",
    "\n",
    "test_geoms = []\n",
    "for cdbid in ids:\n",
    "    query = \"\"\"\n",
    "        SELECT\n",
    "            ST_INTERSECTION(a.the_geom, b.the_geom) AS the_geom\n",
    "        FROM {} AS a, (\n",
    "            SELECT ST_MAKEVALID(ST_SIMPLIFY(the_geom, {tolerance})) AS the_geom\n",
    "            FROM {} WHERE cartodb_id = {}\n",
    "        ) AS b\n",
    "        WHERE st_intersects(a.the_geom, b.the_geom)\n",
    "    \"\"\".format(wdpa_table, gadm_table2, cdbid, tolerance=tolerance)\n",
    "    test_geoms.append( sendSql(query)['rows'] )"
   ]
  },
  {
   "cell_type": "code",
   "execution_count": 99,
   "metadata": {},
   "outputs": [],
   "source": [
    "def areaEqual(geom):\n",
    "    # Equal-area approx equiv to ST_AREA(geog) a la sgilles\n",
    "    return shapely.ops.transform(\n",
    "        partial(\n",
    "            pyproj.transform,\n",
    "            pyproj.Proj(init='EPSG:4326'),\n",
    "            pyproj.Proj(\n",
    "                proj='aea', # Albers equal area\n",
    "                lat_1=geom.bounds[1],\n",
    "                lat_2=geom.bounds[3])\n",
    "        ), geom).area\n",
    "\n",
    "def loadGeoms(rows, geom_field='the_geom'):\n",
    "    return [shapely.wkb.loads(r[geom_field], hex=True) for r in rows]"
   ]
  },
  {
   "cell_type": "code",
   "execution_count": 100,
   "metadata": {},
   "outputs": [
    {
     "name": "stdout",
     "output_type": "stream",
     "text": [
      "13256129663.4084\n",
      "52754188196.3338\n",
      "42641987.1496473\n",
      "13256129663.4084\n",
      "52754188196.3338\n",
      "42641987.1496473\n",
      "32.5 s ± 0 ns per loop (mean ± std. dev. of 1 run, 1 loop each)\n"
     ]
    }
   ],
   "source": [
    "## Using local postgis\n",
    "\n",
    "%%timeit -r 1\n",
    "for rows in test_geoms:\n",
    "    geoms = ','.join([\"'{}'::geometry\".format(r['the_geom']) for r in rows])\n",
    "    query = \"\"\"\n",
    "    SELECT ST_AREA(ST_UNION(ARRAY[{}])::geography) as area\n",
    "    \"\"\".format(geoms)\n",
    "    area = postgis(query)[0][0]\n",
    "    print(area)"
   ]
  },
  {
   "cell_type": "code",
   "execution_count": 103,
   "metadata": {},
   "outputs": [
    {
     "name": "stdout",
     "output_type": "stream",
     "text": [
      "13256076698.72476\n",
      "52749935135.33423\n",
      "42642012.0458095\n",
      "13256076698.72476\n",
      "52749935135.33423\n",
      "42642012.0458095\n",
      "1min 30s ± 0 ns per loop (mean ± std. dev. of 1 run, 1 loop each)\n"
     ]
    }
   ],
   "source": [
    "## Using shapely + pyproj\n",
    "\n",
    "%%timeit -r 1\n",
    "for rows in test_geoms:\n",
    "    geoms = loadGeoms(rows)\n",
    "    union_geoms = shapely.ops.cascaded_union(geoms)\n",
    "    area = areaEqual(union_geoms)\n",
    "    print(area)"
   ]
  },
  {
   "cell_type": "code",
   "execution_count": null,
   "metadata": {},
   "outputs": [],
   "source": []
  },
  {
   "cell_type": "code",
   "execution_count": null,
   "metadata": {},
   "outputs": [],
   "source": []
  }
 ],
 "metadata": {
  "kernelspec": {
   "display_name": "Python 3",
   "language": "python",
   "name": "python3"
  },
  "language_info": {
   "codemirror_mode": {
    "name": "ipython",
    "version": 3
   },
   "file_extension": ".py",
   "mimetype": "text/x-python",
   "name": "python",
   "nbconvert_exporter": "python",
   "pygments_lexer": "ipython3",
   "version": "3.7.0"
  }
 },
 "nbformat": 4,
 "nbformat_minor": 2
}
