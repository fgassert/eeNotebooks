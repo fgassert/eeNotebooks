{
 "cells": [
  {
   "cell_type": "code",
   "execution_count": 6,
   "metadata": {},
   "outputs": [],
   "source": [
    "import ee\n",
    "import ipyleaflet\n",
    "import mercantile\n",
    "import os\n",
    "\n",
    "BUCKET = os.environ.get('EE_BUCKET')\n",
    "\n",
    "ee.Initialize()"
   ]
  },
  {
   "cell_type": "code",
   "execution_count": 5,
   "metadata": {},
   "outputs": [],
   "source": [
    "#!earthengine authenticate --quiet"
   ]
  },
  {
   "cell_type": "code",
   "execution_count": 4,
   "metadata": {},
   "outputs": [],
   "source": [
    "#!earthengine authenticate --authorization-code"
   ]
  },
  {
   "cell_type": "code",
   "execution_count": 7,
   "metadata": {},
   "outputs": [],
   "source": [
    "# utility funcs\n",
    "def GetTileLayerUrl(eeImage):\n",
    "  map_id = ee.Image(eeImage).getMapId()\n",
    "  tile_url_template = \"https://earthengine.googleapis.com/map/{mapid}/{{z}}/{{x}}/{{y}}?token={token}\"\n",
    "  return tile_url_template.format(**map_id)\n",
    "\n",
    "def TileLayer(eeImage):\n",
    "  return ipyleaflet.TileLayer(url=GetTileLayerUrl(eeImage))\n",
    "\n",
    "def ShowLayer(eeImage):\n",
    "  Map = ipyleaflet.Map(center=(48.2, 16.3), zoom=2, layout={'height':'200px'})\n",
    "  Map.add_layer(TileLayer(eeImage))\n",
    "  return Map"
   ]
  },
  {
   "cell_type": "code",
   "execution_count": 8,
   "metadata": {},
   "outputs": [],
   "source": [
    "# video tiles\n",
    "def createExportVideoTileTask(eeImageCollection, tile, bucket, prefix, **args):\n",
    "  geom = mercantile.feature(tile)['geometry']['coordinates']\n",
    "  pfx = '{}/{}/{}/'.format(prefix, tile.z, tile.x)\n",
    "  fname = '{}'.format(tile.y)\n",
    "  desc = (pfx+fname).replace('/','_')\n",
    "  task = ee.batch.Export.video.toCloudStorage(eeImageCollection, \n",
    "    description=desc,\n",
    "    bucket=bucket,\n",
    "    fileNamePrefix=pfx+fname,\n",
    "    dimensions=[256,256],\n",
    "    region=geom,\n",
    "    **args)\n",
    "  return task\n",
    "\n",
    "def exportVideoTiles(eeImageCollection, zoom_levels, bucket, prefix, **args):\n",
    "  tasks = []\n",
    "  for tile in mercantile.tiles(-180, -85, 180, 85, zoom_levels, truncate=False):\n",
    "    task = createExportVideoTileTask(eeImageCollection, tile, bucket, prefix, **args)\n",
    "    task.start()\n",
    "    tasks.append(task)\n",
    "  return tasks"
   ]
  },
  {
   "cell_type": "code",
   "execution_count": 9,
   "metadata": {},
   "outputs": [
    {
     "data": {
      "text/plain": [
       "{'type': 'Image',\n",
       " 'bands': [{'id': 'urban',\n",
       "   'data_type': {'type': 'PixelType', 'precision': 'double'},\n",
       "   'dimensions': [1440, 720],\n",
       "   'crs': 'EPSG:4326',\n",
       "   'crs_transform': [0.25, 0.0, -180.0, 0.0, -0.25, 90.0]},\n",
       "  {'id': 'c3ann',\n",
       "   'data_type': {'type': 'PixelType', 'precision': 'double'},\n",
       "   'dimensions': [1440, 720],\n",
       "   'crs': 'EPSG:4326',\n",
       "   'crs_transform': [0.25, 0.0, -180.0, 0.0, -0.25, 90.0]},\n",
       "  {'id': 'c4ann',\n",
       "   'data_type': {'type': 'PixelType', 'precision': 'double'},\n",
       "   'dimensions': [1440, 720],\n",
       "   'crs': 'EPSG:4326',\n",
       "   'crs_transform': [0.25, 0.0, -180.0, 0.0, -0.25, 90.0]},\n",
       "  {'id': 'c3per',\n",
       "   'data_type': {'type': 'PixelType', 'precision': 'double'},\n",
       "   'dimensions': [1440, 720],\n",
       "   'crs': 'EPSG:4326',\n",
       "   'crs_transform': [0.25, 0.0, -180.0, 0.0, -0.25, 90.0]},\n",
       "  {'id': 'c4per',\n",
       "   'data_type': {'type': 'PixelType', 'precision': 'double'},\n",
       "   'dimensions': [1440, 720],\n",
       "   'crs': 'EPSG:4326',\n",
       "   'crs_transform': [0.25, 0.0, -180.0, 0.0, -0.25, 90.0]},\n",
       "  {'id': 'c3nfx',\n",
       "   'data_type': {'type': 'PixelType', 'precision': 'double'},\n",
       "   'dimensions': [1440, 720],\n",
       "   'crs': 'EPSG:4326',\n",
       "   'crs_transform': [0.25, 0.0, -180.0, 0.0, -0.25, 90.0]},\n",
       "  {'id': 'range',\n",
       "   'data_type': {'type': 'PixelType', 'precision': 'double'},\n",
       "   'dimensions': [1440, 720],\n",
       "   'crs': 'EPSG:4326',\n",
       "   'crs_transform': [0.25, 0.0, -180.0, 0.0, -0.25, 90.0]},\n",
       "  {'id': 'pastr',\n",
       "   'data_type': {'type': 'PixelType', 'precision': 'double'},\n",
       "   'dimensions': [1440, 720],\n",
       "   'crs': 'EPSG:4326',\n",
       "   'crs_transform': [0.25, 0.0, -180.0, 0.0, -0.25, 90.0]},\n",
       "  {'id': 'primf',\n",
       "   'data_type': {'type': 'PixelType', 'precision': 'double'},\n",
       "   'dimensions': [1440, 720],\n",
       "   'crs': 'EPSG:4326',\n",
       "   'crs_transform': [0.25, 0.0, -180.0, 0.0, -0.25, 90.0]},\n",
       "  {'id': 'secdf',\n",
       "   'data_type': {'type': 'PixelType', 'precision': 'double'},\n",
       "   'dimensions': [1440, 720],\n",
       "   'crs': 'EPSG:4326',\n",
       "   'crs_transform': [0.25, 0.0, -180.0, 0.0, -0.25, 90.0]},\n",
       "  {'id': 'primn',\n",
       "   'data_type': {'type': 'PixelType', 'precision': 'double'},\n",
       "   'dimensions': [1440, 720],\n",
       "   'crs': 'EPSG:4326',\n",
       "   'crs_transform': [0.25, 0.0, -180.0, 0.0, -0.25, 90.0]},\n",
       "  {'id': 'secdn',\n",
       "   'data_type': {'type': 'PixelType', 'precision': 'double'},\n",
       "   'dimensions': [1440, 720],\n",
       "   'crs': 'EPSG:4326',\n",
       "   'crs_transform': [0.25, 0.0, -180.0, 0.0, -0.25, 90.0]},\n",
       "  {'id': 'secmb',\n",
       "   'data_type': {'type': 'PixelType', 'precision': 'double'},\n",
       "   'dimensions': [1440, 720],\n",
       "   'crs': 'EPSG:4326',\n",
       "   'crs_transform': [0.25, 0.0, -180.0, 0.0, -0.25, 90.0]},\n",
       "  {'id': 'secma',\n",
       "   'data_type': {'type': 'PixelType', 'precision': 'double'},\n",
       "   'dimensions': [1440, 720],\n",
       "   'crs': 'EPSG:4326',\n",
       "   'crs_transform': [0.25, 0.0, -180.0, 0.0, -0.25, 90.0]}],\n",
       " 'version': 1544212645817873,\n",
       " 'id': 'users/resourcewatchlandcover/LandUseHarmonization/Historical/Baseline/States/States_1548',\n",
       " 'properties': {'system:time_start': -13317091200000.0,\n",
       "  'system:footprint': {'type': 'LinearRing',\n",
       "   'coordinates': [[-180.0, -90.0],\n",
       "    [180.0, -90.0],\n",
       "    [180.0, 90.0],\n",
       "    [-180.0, 90.0],\n",
       "    [-180.0, -90.0]]},\n",
       "  'system:time_end': -13285555200000.0,\n",
       "  'no_data_value': 1.0000000200408773e+20,\n",
       "  'system:asset_size': 8859021,\n",
       "  'system:index': 'States_1548'}}"
      ]
     },
     "execution_count": 9,
     "metadata": {},
     "output_type": "execute_result"
    }
   ],
   "source": [
    "# get image collection\n",
    "ic = ee.ImageCollection('users/resourcewatchlandcover/LandUseHarmonization/Historical/Baseline/States')\n",
    "ic = ic.sort('year')\n",
    "\n",
    "#print(ic.aggregate_array('year'))\n",
    "ic.first().getInfo()"
   ]
  },
  {
   "cell_type": "code",
   "execution_count": 11,
   "metadata": {},
   "outputs": [],
   "source": [
    "# Visualization\n",
    "# Bands are % of cell in land cover class, compute simple linear average of colors\n",
    "\n",
    "i1 = ee.Image.constant(1)\n",
    "gamma = 1\n",
    "color_constants = {\n",
    "  'c0': i1.visualize(palette=['gray']), \n",
    "  'c1': i1.visualize(palette=['yellow']),\n",
    "  'c2': i1.visualize(palette=['lightgreen']),\n",
    "  'c3': i1.visualize(palette=['yellow']),\n",
    "  'c4': i1.visualize(palette=['lightgreen']),\n",
    "  'c5': i1.visualize(palette=['yellow']),\n",
    "  'c6': i1.visualize(palette=['lightgreen']),\n",
    "  'c7': i1.visualize(palette=['lightgreen']),\n",
    "  'c8': i1.visualize(palette=['darkgreen']),\n",
    "  'c9': i1.visualize(palette=['darkgreen']),\n",
    "  'c10': i1.visualize(palette=['tan']),\n",
    "  'c11': i1.visualize(palette=['tan']),\n",
    "}\n",
    "\n",
    "def viz(i): \n",
    "  return i.expression(\n",
    "    'b(0)*c0 + b(1)*c1 + b(2)*c2 +' +\n",
    "    'b(3)*c3 + b(4)*c4 + b(5)*c5 +' +\n",
    "    'b(6)*c6 + b(7)*c7 + b(8)*c8 +' +\n",
    "    'b(9)*c9 + b(10)*c10 + b(11)*c11'\n",
    "    , color_constants).toUint8()"
   ]
  },
  {
   "cell_type": "code",
   "execution_count": 12,
   "metadata": {},
   "outputs": [
    {
     "data": {
      "application/vnd.jupyter.widget-view+json": {
       "model_id": "224d9f1a1ca342a4a8a2251c64f677ee",
       "version_major": 2,
       "version_minor": 0
      },
      "text/html": [
       "<p>Failed to display Jupyter Widget of type <code>Map</code>.</p>\n",
       "<p>\n",
       "  If you're reading this message in Jupyter Notebook or JupyterLab, it may mean\n",
       "  that the widgets JavaScript is still loading. If this message persists, it\n",
       "  likely means that the widgets JavaScript library is either not installed or\n",
       "  not enabled. See the <a href=\"https://ipywidgets.readthedocs.io/en/stable/user_install.html\">Jupyter\n",
       "  Widgets Documentation</a> for setup instructions.\n",
       "</p>\n",
       "<p>\n",
       "  If you're reading this message in another notebook frontend (for example, a static\n",
       "  rendering on GitHub or <a href=\"https://nbviewer.jupyter.org/\">NBViewer</a>),\n",
       "  it may mean that your frontend doesn't currently support widgets.\n",
       "</p>\n"
      ],
      "text/plain": [
       "Map(center=[48.2, 16.3], layers=(TileLayer(options=[u'opacity', u'attribution', u'max_zoom', u'detect_retina', u'min_zoom', u'tile_size']), TileLayer(options=[u'opacity', u'attribution', u'max_zoom', u'detect_retina', u'min_zoom', u'tile_size'], url=u'https://earthengine.googleapis.com/map/4254fd262e6abb86c1ff3b2ec9bc81cd/{z}/{x}/{y}?token=0f9208741c1d48980e1e0876f742b808')), layout=Layout(height=u'200px'), options=[u'keyboard_pan_offset', u'tap', u'attribution_control', u'max_zoom', u'min_zoom', u'bounce_at_zoom_limits', u'keyboard', u'scroll_wheel_zoom', u'dragging', u'inertia_max_speed', u'close_popup_on_click', u'zoom_control', u'box_zoom', u'double_click_zoom', u'tap_tolerance', u'zoom_start', u'keyboard_zoom_offset', u'inertia_deceleration', u'inertia', u'center', u'zoom', u'world_copy_jump', u'zoom_animation_threshold', u'touch_zoom'], zoom=2)"
      ]
     },
     "metadata": {},
     "output_type": "display_data"
    }
   ],
   "source": [
    "y1 = 1900\n",
    "y2 = 2000\n",
    "\n",
    "frames = ic.filterMetadata('year','not_less_than', y1).filterMetadata('year','not_greater_than', y2).map(viz)\n",
    "im = ee.Image(frames.first())\n",
    "ShowLayer(im)"
   ]
  },
  {
   "cell_type": "code",
   "execution_count": null,
   "metadata": {},
   "outputs": [],
   "source": [
    "layer_name = 'LUH_historical'\n",
    "zoom_levels = [0, 1]\n",
    "bucket = 'ee-export-744hn9bz'\n",
    "\n",
    "tasks = exportVideoTiles(frames, zoom_levels, bucket, layer_name)"
   ]
  },
  {
   "cell_type": "code",
   "execution_count": 13,
   "metadata": {},
   "outputs": [
    {
     "data": {
      "text/plain": [
       "[<Task EXPORT_VIDEO: LUH_historical_1_1_1 (COMPLETED)>,\n",
       " <Task EXPORT_VIDEO: LUH_historical_1_1_0 (COMPLETED)>,\n",
       " <Task EXPORT_VIDEO: LUH_historical_1_0_1 (COMPLETED)>,\n",
       " <Task EXPORT_VIDEO: LUH_historical_1_0_0 (COMPLETED)>,\n",
       " <Task EXPORT_VIDEO: LUH_historical_0_0_0 (COMPLETED)>,\n",
       " <Task EXPORT_VIDEO: LUH_historical_0_0_0 (COMPLETED)>,\n",
       " <Task EXPORT_VIDEO: LUH_historical_0_0_0 (COMPLETED)>,\n",
       " <Task EXPORT_VIDEO: LUH_historical_2_3_3 (COMPLETED)>,\n",
       " <Task EXPORT_VIDEO: LUH_historical_2_3_2 (COMPLETED)>,\n",
       " <Task EXPORT_VIDEO: LUH_historical_2_3_1 (COMPLETED)>,\n",
       " <Task EXPORT_VIDEO: LUH_historical_2_3_0 (COMPLETED)>,\n",
       " <Task EXPORT_VIDEO: LUH_historical_2_2_3 (COMPLETED)>,\n",
       " <Task EXPORT_VIDEO: LUH_historical_2_2_2 (COMPLETED)>,\n",
       " <Task EXPORT_VIDEO: LUH_historical_2_2_1 (COMPLETED)>,\n",
       " <Task EXPORT_VIDEO: LUH_historical_2_2_0 (COMPLETED)>,\n",
       " <Task EXPORT_VIDEO: LUH_historical_2_1_3 (COMPLETED)>,\n",
       " <Task EXPORT_VIDEO: LUH_historical_2_1_2 (COMPLETED)>,\n",
       " <Task EXPORT_VIDEO: LUH_historical_2_1_1 (COMPLETED)>,\n",
       " <Task EXPORT_VIDEO: LUH_historical_2_1_0 (COMPLETED)>,\n",
       " <Task EXPORT_VIDEO: LUH_historical_2_0_3 (COMPLETED)>,\n",
       " <Task EXPORT_VIDEO: LUH_historical_2_0_2 (COMPLETED)>,\n",
       " <Task EXPORT_VIDEO: LUH_historical_2_0_1 (COMPLETED)>,\n",
       " <Task EXPORT_VIDEO: LUH_historical_2_0_0 (COMPLETED)>,\n",
       " <Task EXPORT_VIDEO: LUH_historical_1_1_1 (COMPLETED)>,\n",
       " <Task EXPORT_VIDEO: LUH_historical_1_1_0 (COMPLETED)>,\n",
       " <Task EXPORT_VIDEO: LUH_historical_1_0_1 (COMPLETED)>,\n",
       " <Task EXPORT_VIDEO: LUH_historical_1_0_0 (COMPLETED)>,\n",
       " <Task EXPORT_VIDEO: LUH_historical_0_0_0 (COMPLETED)>,\n",
       " <Task EXPORT_VIDEO: eeExport_LUH_historical_0_0_0 (COMPLETED)>,\n",
       " <Task EXPORT_VIDEO: ExportVideo (COMPLETED)>,\n",
       " <Task EXPORT_VIDEO: ExportVideo (COMPLETED)>,\n",
       " <Task INGEST: Asset ingestion: users/fgassert/slippyTiles0_5-20190514T212014Z-001 (FAILED)>,\n",
       " <Task EXPORT_FEATURES: myExportTableTask (COMPLETED)>,\n",
       " <Task EXPORT_FEATURES: myExportTableTask (FAILED)>,\n",
       " <Task EXPORT_FEATURES: myExportTableTask (CANCELLED)>,\n",
       " <Task EXPORT_VIDEO: ee-animation (COMPLETED)>,\n",
       " <Task EXPORT_VIDEO: ee-animation (FAILED)>,\n",
       " <Task EXPORT_VIDEO: ee-animation (FAILED)>,\n",
       " <Task EXPORT_VIDEO: ee-animation (FAILED)>,\n",
       " <Task EXPORT_IMAGE: npl_jrc_occurance (COMPLETED)>,\n",
       " <Task EXPORT_IMAGE: npl_jrc_occurance (FAILED)>]"
      ]
     },
     "execution_count": 13,
     "metadata": {},
     "output_type": "execute_result"
    }
   ],
   "source": [
    "ee.batch.Task.list()"
   ]
  },
  {
   "cell_type": "code",
   "execution_count": null,
   "metadata": {
    "collapsed": true
   },
   "outputs": [],
   "source": []
  }
 ],
 "metadata": {
  "kernelspec": {
   "display_name": "Python 3",
   "language": "python",
   "name": "python3"
  },
  "language_info": {
   "codemirror_mode": {
    "name": "ipython",
    "version": 3
   },
   "file_extension": ".py",
   "mimetype": "text/x-python",
   "name": "python",
   "nbconvert_exporter": "python",
   "pygments_lexer": "ipython3",
   "version": "3.7.0"
  }
 },
 "nbformat": 4,
 "nbformat_minor": 2
}
