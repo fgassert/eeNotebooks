{
 "cells": [
  {
   "cell_type": "code",
   "execution_count": 43,
   "metadata": {},
   "outputs": [
    {
     "name": "stdout",
     "output_type": "stream",
     "text": [
      "Collecting geojson\n",
      "  Downloading https://files.pythonhosted.org/packages/f1/34/bc3a65faabce27a7faa755ab08d811207a4fc438f77ef09c229fc022d778/geojson-2.4.1-py2.py3-none-any.whl\n",
      "Installing collected packages: geojson\n",
      "Successfully installed geojson-2.4.1\n"
     ]
    }
   ],
   "source": []
  },
  {
   "cell_type": "code",
   "execution_count": 44,
   "metadata": {
    "scrolled": true
   },
   "outputs": [],
   "source": [
    "import ee\n",
    "import ipyleaflet\n",
    "import os\n",
    "import requests\n",
    "import shapely.geometry\n",
    "import shapely.wkb\n",
    "import json\n",
    "ee.Initialize()"
   ]
  },
  {
   "cell_type": "code",
   "execution_count": 2,
   "metadata": {},
   "outputs": [],
   "source": [
    "# utility funcs\n",
    "def getTileLayerUrl(eeImage):\n",
    "    map_id = ee.Image(eeImage).getMapId()\n",
    "    tile_url_template = \"https://earthengine.googleapis.com/map/{mapid}/{{z}}/{{x}}/{{y}}?token={token}\"\n",
    "    return tile_url_template.format(**map_id)\n",
    "\n",
    "def TileLayer(eeImage):\n",
    "    return ipyleaflet.TileLayer(url=getTileLayerUrl(eeImage))\n",
    "\n",
    "def showLayer(eeImage):\n",
    "    Map = ipyleaflet.Map(center=(48.2, 16.3), zoom=2, layout={'height':'200px'})\n",
    "    Map.add_layer(TileLayer(eeImage))\n",
    "    return Map"
   ]
  },
  {
   "cell_type": "code",
   "execution_count": 8,
   "metadata": {},
   "outputs": [],
   "source": [
    "CARTO_URL = 'https://{}.carto.com/api/v2/sql'\n",
    "CARTO_USER = 'wri-01'\n",
    "CARTO_KEY = os.environ.get('CARTO_KEY')\n",
    "def sendSql(sql, user=None, key=None):\n",
    "    '''Send arbitrary sql and return response object or False'''\n",
    "    user = user or CARTO_USER\n",
    "    key = key or CARTO_KEY\n",
    "    url = CARTO_URL.format(user)\n",
    "    payload = {\n",
    "        'api_key': key,\n",
    "        'q': sql,\n",
    "    }\n",
    "    r = requests.post(url, json=payload)\n",
    "    if (r.status_code >= 400):\n",
    "        try:\n",
    "            msg = r.json()['error'][0]\n",
    "        except:\n",
    "            r.raise_for_status()\n",
    "        raise Exception(msg)\n",
    "    return r.json()"
   ]
  },
  {
   "cell_type": "code",
   "execution_count": 3,
   "metadata": {},
   "outputs": [
    {
     "data": {
      "application/vnd.jupyter.widget-view+json": {
       "model_id": "ae80411c03a64fb99b54ffd636f66333",
       "version_major": 2,
       "version_minor": 0
      },
      "text/plain": [
       "Map(basemap={'url': 'https://{s}.tile.openstreetmap.org/{z}/{x}/{y}.png', 'max_zoom': 19, 'attribution': 'Map …"
      ]
     },
     "metadata": {},
     "output_type": "display_data"
    }
   ],
   "source": [
    "img = ee.Image('users/benlaken/geodesriber-asset')\n",
    "showLayer(img)"
   ]
  },
  {
   "cell_type": "code",
   "execution_count": 4,
   "metadata": {},
   "outputs": [
    {
     "data": {
      "text/plain": [
       "{'type': 'Image',\n",
       " 'bands': [{'id': 'isMountain',\n",
       "   'data_type': {'type': 'PixelType',\n",
       "    'precision': 'int',\n",
       "    'min': 0,\n",
       "    'max': 255},\n",
       "   'dimensions': [40076, 19363],\n",
       "   'crs': 'EPSG:4326',\n",
       "   'crs_transform': [0.008983152841195215,\n",
       "    0.0,\n",
       "    -180.00441663186973,\n",
       "    0.0,\n",
       "    -0.008983152841195215,\n",
       "    86.80420590446937]},\n",
       "  {'id': 'biome',\n",
       "   'data_type': {'type': 'PixelType',\n",
       "    'precision': 'int',\n",
       "    'min': -128,\n",
       "    'max': 127},\n",
       "   'dimensions': [40076, 19363],\n",
       "   'crs': 'EPSG:4326',\n",
       "   'crs_transform': [0.008983152841195215,\n",
       "    0.0,\n",
       "    -180.00441663186973,\n",
       "    0.0,\n",
       "    -0.008983152841195215,\n",
       "    86.80420590446937]},\n",
       "  {'id': 'ecoregion',\n",
       "   'data_type': {'type': 'PixelType',\n",
       "    'precision': 'int',\n",
       "    'min': -32768,\n",
       "    'max': 32767},\n",
       "   'dimensions': [40076, 19363],\n",
       "   'crs': 'EPSG:4326',\n",
       "   'crs_transform': [0.008983152841195215,\n",
       "    0.0,\n",
       "    -180.00441663186973,\n",
       "    0.0,\n",
       "    -0.008983152841195215,\n",
       "    86.80420590446937]},\n",
       "  {'id': 'koppen',\n",
       "   'data_type': {'type': 'PixelType',\n",
       "    'precision': 'int',\n",
       "    'min': -32768,\n",
       "    'max': 32767},\n",
       "   'dimensions': [40076, 19363],\n",
       "   'crs': 'EPSG:4326',\n",
       "   'crs_transform': [0.008983152841195215,\n",
       "    0.0,\n",
       "    -180.00441663186973,\n",
       "    0.0,\n",
       "    -0.008983152841195215,\n",
       "    86.80420590446937]},\n",
       "  {'id': 'intact2016',\n",
       "   'data_type': {'type': 'PixelType',\n",
       "    'precision': 'int',\n",
       "    'min': -2147483648,\n",
       "    'max': 2147483647},\n",
       "   'dimensions': [40076, 19363],\n",
       "   'crs': 'EPSG:4326',\n",
       "   'crs_transform': [0.008983152841195215,\n",
       "    0.0,\n",
       "    -180.00441663186973,\n",
       "    0.0,\n",
       "    -0.008983152841195215,\n",
       "    86.80420590446937]}],\n",
       " 'version': 1558437171935142,\n",
       " 'id': 'users/benlaken/geodesriber-asset',\n",
       " 'properties': {'system:footprint': {'type': 'LinearRing',\n",
       "   'coordinates': [[-180.0, -90.0],\n",
       "    [180.0, -90.0],\n",
       "    [180.0, 90.0],\n",
       "    [-180.0, 90.0],\n",
       "    [-180.0, -90.0]]},\n",
       "  'system:asset_size': 34009508}}"
      ]
     },
     "execution_count": 4,
     "metadata": {},
     "output_type": "execute_result"
    }
   ],
   "source": [
    "img.getInfo()"
   ]
  },
  {
   "cell_type": "code",
   "execution_count": 102,
   "metadata": {},
   "outputs": [
    {
     "data": {
      "image/svg+xml": [
       "<svg xmlns=\"http://www.w3.org/2000/svg\" xmlns:xlink=\"http://www.w3.org/1999/xlink\" width=\"100.0\" height=\"100.0\" viewBox=\"19.415819999999997 41.51842 0.8931600000000053 0.5402599999999964\" preserveAspectRatio=\"xMinYMin meet\"><g transform=\"matrix(1,0,0,-1,0,83.5771)\"><g><path fill-rule=\"evenodd\" fill=\"#66cc99\" stroke=\"#555555\" stroke-width=\"0.017863200000000107\" opacity=\"0.6\" d=\"M 19.5927,41.6315 L 19.5901,41.6338 L 19.5857,41.6429 L 19.5877,41.6421 L 19.5915,41.6346 L 19.5949,41.6324 L 19.5927,41.6315 z\" /><path fill-rule=\"evenodd\" fill=\"#66cc99\" stroke=\"#555555\" stroke-width=\"0.017863200000000107\" opacity=\"0.6\" d=\"M 19.5927,41.6315 L 19.5935,41.6226 L 19.5963,41.6207 L 19.5943,41.6163 L 19.5971,41.6151 L 19.599,41.6107 L 19.6029,41.611 L 19.6085,41.6247 L 19.6083,41.6299 L 19.6038,41.6376 L 19.5876,41.6485 L 19.5763,41.6346 L 19.5774,41.6301 L 19.5732,41.6296 L 19.5721,41.6313 L 19.5749,41.6338 L 19.5779,41.6463 L 19.5718,41.6393 L 19.5727,41.6457 L 19.5701,41.6474 L 19.571,41.6487 L 19.5696,41.6532 L 19.5713,41.6543 L 19.5707,41.6585 L 19.5755,41.6654 L 19.5724,41.6637 L 19.5726,41.671 L 19.5827,41.6913 L 19.5824,41.6965 L 19.5837,41.6985 L 19.584,41.7196 L 19.581,41.7229 L 19.5768,41.7349 L 19.5771,41.7412 L 19.5751,41.7429 L 19.5771,41.7435 L 19.5796,41.7418 L 19.5782,41.7471 L 19.5807,41.7457 L 19.5821,41.7485 L 19.5851,41.7471 L 19.596,41.7479 L 19.5982,41.7493 L 19.5988,41.7521 L 19.5799,41.751 L 19.5743,41.7482 L 19.5724,41.7482 L 19.5715,41.7501 L 19.5806,41.7546 L 19.5987,41.7562 L 19.6011,41.7585 L 19.6079,41.7607 L 19.6093,41.7646 L 19.6085,41.7715 L 19.6135,41.774 L 19.6157,41.7785 L 19.6185,41.7804 L 19.6182,41.7829 L 19.6199,41.7846 L 19.6176,41.7843 L 19.6157,41.7865 L 19.6196,41.7885 L 19.6204,41.7907 L 19.6187,41.7915 L 19.6132,41.7868 L 19.6126,41.789 L 19.6162,41.7915 L 19.6169,41.7962 L 19.6132,41.7982 L 19.6118,41.7949 L 19.6099,41.7946 L 19.6105,41.7929 L 19.6076,41.7935 L 19.6063,41.7907 L 19.6035,41.7899 L 19.6049,41.7835 L 19.6087,41.7824 L 19.6071,41.7812 L 19.6054,41.7735 L 19.601,41.7704 L 19.5976,41.764 L 19.594,41.7626 L 19.6013,41.7735 L 19.6032,41.7854 L 19.6013,41.7999 L 19.5974,41.8102 L 19.589,41.8141 L 19.5851,41.8093 L 19.5824,41.809 L 19.5699,41.814 L 19.5655,41.8185 L 19.554,41.8257 L 19.5424,41.8324 L 19.5368,41.8335 L 19.5312,41.8376 L 19.5367,41.8466 L 19.4489,41.8856 L 19.4588,41.8997 L 19.4714,41.9225 L 19.4789,41.9214 L 19.5019,41.9099 L 19.5081,41.9087 L 19.5571,41.8806 L 19.5703,41.8926 L 19.5677,41.8993 L 19.5678,41.9129 L 19.5699,41.9173 L 19.5651,41.9219 L 19.5653,41.9256 L 19.5543,41.9393 L 19.5558,41.9434 L 19.5632,41.9444 L 19.5641,41.9544 L 19.568,41.9671 L 19.5667,41.9684 L 19.5719,41.9667 L 19.5877,41.9684 L 19.6035,41.9585 L 19.6065,41.9594 L 19.6165,41.957 L 19.623,41.9602 L 19.6286,41.9658 L 19.6362,41.9666 L 19.6383,41.9689 L 19.6485,41.9694 L 19.6492,41.9622 L 19.6519,41.9571 L 19.6513,41.9508 L 19.6542,41.9363 L 19.6568,41.9315 L 19.6625,41.9266 L 19.6766,41.9193 L 19.6783,41.9167 L 19.6874,41.9157 L 19.7114,41.8939 L 19.7208,41.8883 L 19.7256,41.8892 L 19.7377,41.9019 L 19.7503,41.9083 L 19.7519,41.9113 L 19.7505,41.9182 L 19.7403,41.9354 L 19.7761,41.9377 L 19.7783,41.9395 L 19.7796,41.9453 L 19.7886,41.9502 L 19.7988,41.9477 L 19.804,41.9384 L 19.8114,41.933 L 19.8167,41.9321 L 19.8229,41.9347 L 19.832,41.9324 L 19.85,41.94 L 19.8574,41.9486 L 19.8652,41.952 L 19.8778,41.9634 L 19.887,41.965 L 19.8936,41.9627 L 19.9003,41.9646 L 19.9051,41.9699 L 19.9067,41.9699 L 19.9116,41.9659 L 19.9135,41.9588 L 19.9117,41.9556 L 19.9144,41.9488 L 19.9214,41.9405 L 19.9203,41.9354 L 19.9222,41.9322 L 19.9306,41.9234 L 19.9473,41.912 L 19.9507,41.9053 L 19.9503,41.901 L 19.9385,41.8958 L 19.9378,41.8912 L 19.9386,41.8865 L 19.9467,41.8768 L 19.9552,41.8748 L 19.9591,41.8761 L 19.9615,41.8803 L 20.0046,41.8749 L 20.0155,41.8829 L 20.0171,41.8866 L 20.0166,41.8914 L 20.0223,41.9005 L 20.0501,41.9246 L 20.0657,41.9256 L 20.0734,41.9287 L 20.0868,41.9384 L 20.0885,41.9579 L 20.0958,41.9699 L 20.1037,41.9744 L 20.123,41.9798 L 20.1267,41.9831 L 20.1496,41.9914 L 20.1637,41.9913 L 20.1926,42.0068 L 20.2143,42.0226 L 20.2211,42.0224 L 20.2306,42.0256 L 20.236,42.0227 L 20.2479,42.0205 L 20.2759,41.9916 L 20.2697,41.9811 L 20.2653,41.9667 L 20.2688,41.9469 L 20.2642,41.9431 L 20.2589,41.9415 L 20.2491,41.9326 L 20.242,41.9305 L 20.2317,41.9213 L 20.2211,41.915 L 20.2201,41.9127 L 20.2124,41.91 L 20.2097,41.9014 L 20.2094,41.891 L 20.2123,41.8859 L 20.2096,41.8806 L 20.211,41.8804 L 20.2073,41.8752 L 20.205,41.8621 L 20.2012,41.8578 L 20.1971,41.8556 L 20.1808,41.8553 L 20.1746,41.8523 L 20.1752,41.8423 L 20.1729,41.8384 L 20.1665,41.8354 L 20.1482,41.8334 L 20.1267,41.8348 L 20.1161,41.8322 L 20.1105,41.8283 L 20.1124,41.8273 L 20.1103,41.8235 L 20.1135,41.8191 L 20.1314,41.8152 L 20.1478,41.8039 L 20.166,41.7954 L 20.1668,41.7912 L 20.1642,41.7858 L 20.1641,41.7805 L 20.1667,41.7747 L 20.1672,41.7665 L 20.1628,41.7633 L 20.1415,41.7594 L 20.1172,41.7469 L 20.085,41.7371 L 20.072,41.7365 L 20.0589,41.7337 L 20.0463,41.7259 L 20.0483,41.7156 L 20.0474,41.7122 L 20.0429,41.7077 L 20.0391,41.7002 L 20.0332,41.6965 L 20.0228,41.6997 L 20.0002,41.7028 L 19.9936,41.7053 L 19.9844,41.7036 L 19.9767,41.7057 L 19.9641,41.6974 L 19.9566,41.6947 L 19.9573,41.6866 L 19.9539,41.6809 L 19.9501,41.6799 L 19.9339,41.6859 L 19.925,41.6909 L 19.9173,41.6927 L 19.914,41.7052 L 19.9112,41.707 L 19.9039,41.7062 L 19.8998,41.7002 L 19.895,41.6997 L 19.8914,41.702 L 19.8873,41.702 L 19.8625,41.6886 L 19.8474,41.6875 L 19.8411,41.6883 L 19.8183,41.7115 L 19.8158,41.7113 L 19.8165,41.6955 L 19.8108,41.6875 L 19.8097,41.677 L 19.814,41.6721 L 19.8136,41.664 L 19.8155,41.6538 L 19.8214,41.6424 L 19.8171,41.6354 L 19.8067,41.6259 L 19.8092,41.6218 L 19.8327,41.6077 L 19.8345,41.6032 L 19.828,41.5925 L 19.8325,41.5826 L 19.8325,41.5754 L 19.8382,41.5655 L 19.8222,41.563 L 19.8133,41.5635 L 19.802,41.5683 L 19.7839,41.5906 L 19.7698,41.5868 L 19.7654,41.5823 L 19.7668,41.5667 L 19.7409,41.5573 L 19.7194,41.5589 L 19.7042,41.5515 L 19.693,41.5545 L 19.681,41.56 L 19.6554,41.5819 L 19.6415,41.5892 L 19.6359,41.5884 L 19.6228,41.5778 L 19.5883,41.5731 L 19.5698,41.5769 L 19.5654,41.5758 L 19.5599,41.5815 L 19.5691,41.5885 L 19.5857,41.6121 L 19.5874,41.6126 L 19.5879,41.6154 L 19.5929,41.6132 L 19.5913,41.6151 L 19.5926,41.6182 L 19.5913,41.6315 L 19.5927,41.6315 z\" /><path fill-rule=\"evenodd\" fill=\"#66cc99\" stroke=\"#555555\" stroke-width=\"0.017863200000000107\" opacity=\"0.6\" d=\"M 19.6146,41.7835 L 19.6138,41.779 L 19.6096,41.7757 L 19.6082,41.7796 L 19.6146,41.7835 z\" /><path fill-rule=\"evenodd\" fill=\"#66cc99\" stroke=\"#555555\" stroke-width=\"0.017863200000000107\" opacity=\"0.6\" d=\"M 19.5857,41.7673 L 19.5896,41.7668 L 19.5921,41.7626 L 19.5826,41.759 L 19.5729,41.7599 L 19.5813,41.7604 L 19.5737,41.7626 L 19.5754,41.7665 L 19.5857,41.7673 z\" /></g></g></svg>"
      ],
      "text/plain": [
       "<shapely.geometry.multipolygon.MultiPolygon at 0x7fb541ea3748>"
      ]
     },
     "execution_count": 102,
     "metadata": {},
     "output_type": "execute_result"
    }
   ],
   "source": [
    "r = sendSql('select the_geom from gadm36_adm1 where cartodb_id = (random()*250)::integer')\n",
    "geom = shapely.wkb.loads(r['rows'][0]['the_geom'], hex=True).simplify(.001)\n",
    "region = ee.Geometry(shapely.geometry.mapping(geom))\n",
    "geom"
   ]
  },
  {
   "cell_type": "code",
   "execution_count": 119,
   "metadata": {
    "scrolled": true
   },
   "outputs": [
    {
     "data": {
      "text/plain": [
       "{'biome': {'12': 1972.8470588235284},\n",
       " 'ecoregion': {'794': 1283.3137254901956, '801': 689.533333333333},\n",
       " 'intact2016': {'0': 1999.760784313724},\n",
       " 'isMountain': {'0': 1506.2235294117631, '1': 493.53725490196047},\n",
       " 'koppen': {'32': 22.19607843137255,\n",
       "  '34': 1502.9921568627437,\n",
       "  '35': 474.5725490196076}}"
      ]
     },
     "execution_count": 119,
     "metadata": {},
     "output_type": "execute_result"
    }
   ],
   "source": [
    "stats = img.reduceRegion(reducer=ee.Reducer.frequencyHistogram(),\n",
    "                         geometry=region,\n",
    "                         maxPixels=10000,\n",
    "                         bestEffort=True\n",
    "                         ).getInfo()\n",
    "stats"
   ]
  },
  {
   "cell_type": "markdown",
   "metadata": {},
   "source": [
    "# Notes\n",
    "\n",
    "For query\n",
    " - simplify query geometry if necessary\n",
    " - use bestEffort and maxPixels for on-the-fly resampling of raster\n",
    "\n",
    "For constructing asset\n",
    " - cast to smaller memory size uint8 or uint16\n",
    " - resample to lower resolution if high res not necessary\n",
    " - project to equal-area if area matters"
   ]
  },
  {
   "cell_type": "code",
   "execution_count": null,
   "metadata": {},
   "outputs": [],
   "source": []
  }
 ],
 "metadata": {
  "kernelspec": {
   "display_name": "Python 3",
   "language": "python",
   "name": "python3"
  },
  "language_info": {
   "codemirror_mode": {
    "name": "ipython",
    "version": 3
   },
   "file_extension": ".py",
   "mimetype": "text/x-python",
   "name": "python",
   "nbconvert_exporter": "python",
   "pygments_lexer": "ipython3",
   "version": "3.7.0"
  }
 },
 "nbformat": 4,
 "nbformat_minor": 2
}
