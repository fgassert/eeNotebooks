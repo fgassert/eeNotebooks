{
 "cells": [
  {
   "cell_type": "code",
   "execution_count": 43,
   "metadata": {},
   "outputs": [
    {
     "name": "stdout",
     "output_type": "stream",
     "text": [
      "Collecting geojson\n",
      "  Downloading https://files.pythonhosted.org/packages/f1/34/bc3a65faabce27a7faa755ab08d811207a4fc438f77ef09c229fc022d778/geojson-2.4.1-py2.py3-none-any.whl\n",
      "Installing collected packages: geojson\n",
      "Successfully installed geojson-2.4.1\n"
     ]
    }
   ],
   "source": []
  },
  {
   "cell_type": "code",
   "execution_count": 2,
   "metadata": {
    "scrolled": true
   },
   "outputs": [],
   "source": [
    "import ee\n",
    "import ipyleaflet\n",
    "import os\n",
    "import requests\n",
    "import shapely.geometry\n",
    "import shapely.wkb\n",
    "import json\n",
    "ee.Initialize()"
   ]
  },
  {
   "cell_type": "code",
   "execution_count": 3,
   "metadata": {},
   "outputs": [],
   "source": [
    "# utility funcs\n",
    "def getTileLayerUrl(eeImage):\n",
    "    map_id = ee.Image(eeImage).getMapId()\n",
    "    tile_url_template = \"https://earthengine.googleapis.com/map/{mapid}/{{z}}/{{x}}/{{y}}?token={token}\"\n",
    "    return tile_url_template.format(**map_id)\n",
    "\n",
    "def TileLayer(eeImage):\n",
    "    return ipyleaflet.TileLayer(url=getTileLayerUrl(eeImage))\n",
    "\n",
    "def showLayer(eeImage):\n",
    "    Map = ipyleaflet.Map(center=(48.2, 16.3), zoom=2, layout={'height':'200px'})\n",
    "    Map.add_layer(TileLayer(eeImage))\n",
    "    return Map"
   ]
  },
  {
   "cell_type": "code",
   "execution_count": 4,
   "metadata": {},
   "outputs": [],
   "source": [
    "CARTO_URL = 'https://{}.carto.com/api/v2/sql'\n",
    "CARTO_USER = 'wri-01'\n",
    "CARTO_KEY = os.environ.get('CARTO_KEY')\n",
    "def sendSql(sql, user=None, key=None):\n",
    "    '''Send arbitrary sql and return response object or False'''\n",
    "    user = user or CARTO_USER\n",
    "    key = key or CARTO_KEY\n",
    "    url = CARTO_URL.format(user)\n",
    "    payload = {\n",
    "        'api_key': key,\n",
    "        'q': sql,\n",
    "    }\n",
    "    r = requests.post(url, json=payload)\n",
    "    if (r.status_code >= 400):\n",
    "        try:\n",
    "            msg = r.json()['error'][0]\n",
    "        except:\n",
    "            r.raise_for_status()\n",
    "        raise Exception(msg)\n",
    "    return r.json()"
   ]
  },
  {
   "cell_type": "code",
   "execution_count": 5,
   "metadata": {},
   "outputs": [
    {
     "data": {
      "application/vnd.jupyter.widget-view+json": {
       "model_id": "3bbf1a68d9a94d98a33e9d39edfe52a1",
       "version_major": 2,
       "version_minor": 0
      },
      "text/plain": [
       "Map(basemap={'url': 'https://{s}.tile.openstreetmap.org/{z}/{x}/{y}.png', 'max_zoom': 19, 'attribution': 'Map …"
      ]
     },
     "metadata": {},
     "output_type": "display_data"
    }
   ],
   "source": [
    "img = ee.Image('users/benlaken/geodesriber-asset')\n",
    "showLayer(img)"
   ]
  },
  {
   "cell_type": "code",
   "execution_count": 6,
   "metadata": {},
   "outputs": [
    {
     "data": {
      "text/plain": [
       "{'type': 'Image',\n",
       " 'bands': [{'id': 'isMountain',\n",
       "   'data_type': {'type': 'PixelType',\n",
       "    'precision': 'int',\n",
       "    'min': 0,\n",
       "    'max': 255},\n",
       "   'dimensions': [40076, 19363],\n",
       "   'crs': 'EPSG:4326',\n",
       "   'crs_transform': [0.008983152841195215,\n",
       "    0.0,\n",
       "    -180.00441663186973,\n",
       "    0.0,\n",
       "    -0.008983152841195215,\n",
       "    86.80420590446937]},\n",
       "  {'id': 'biome',\n",
       "   'data_type': {'type': 'PixelType',\n",
       "    'precision': 'int',\n",
       "    'min': -128,\n",
       "    'max': 127},\n",
       "   'dimensions': [40076, 19363],\n",
       "   'crs': 'EPSG:4326',\n",
       "   'crs_transform': [0.008983152841195215,\n",
       "    0.0,\n",
       "    -180.00441663186973,\n",
       "    0.0,\n",
       "    -0.008983152841195215,\n",
       "    86.80420590446937]},\n",
       "  {'id': 'ecoregion',\n",
       "   'data_type': {'type': 'PixelType',\n",
       "    'precision': 'int',\n",
       "    'min': -32768,\n",
       "    'max': 32767},\n",
       "   'dimensions': [40076, 19363],\n",
       "   'crs': 'EPSG:4326',\n",
       "   'crs_transform': [0.008983152841195215,\n",
       "    0.0,\n",
       "    -180.00441663186973,\n",
       "    0.0,\n",
       "    -0.008983152841195215,\n",
       "    86.80420590446937]},\n",
       "  {'id': 'koppen',\n",
       "   'data_type': {'type': 'PixelType',\n",
       "    'precision': 'int',\n",
       "    'min': -32768,\n",
       "    'max': 32767},\n",
       "   'dimensions': [40076, 19363],\n",
       "   'crs': 'EPSG:4326',\n",
       "   'crs_transform': [0.008983152841195215,\n",
       "    0.0,\n",
       "    -180.00441663186973,\n",
       "    0.0,\n",
       "    -0.008983152841195215,\n",
       "    86.80420590446937]},\n",
       "  {'id': 'intact2016',\n",
       "   'data_type': {'type': 'PixelType',\n",
       "    'precision': 'int',\n",
       "    'min': -2147483648,\n",
       "    'max': 2147483647},\n",
       "   'dimensions': [40076, 19363],\n",
       "   'crs': 'EPSG:4326',\n",
       "   'crs_transform': [0.008983152841195215,\n",
       "    0.0,\n",
       "    -180.00441663186973,\n",
       "    0.0,\n",
       "    -0.008983152841195215,\n",
       "    86.80420590446937]}],\n",
       " 'version': 1558437171935142,\n",
       " 'id': 'users/benlaken/geodesriber-asset',\n",
       " 'properties': {'system:footprint': {'type': 'LinearRing',\n",
       "   'coordinates': [[-180.0, -90.0],\n",
       "    [180.0, -90.0],\n",
       "    [180.0, 90.0],\n",
       "    [-180.0, 90.0],\n",
       "    [-180.0, -90.0]]},\n",
       "  'system:asset_size': 34009508}}"
      ]
     },
     "execution_count": 6,
     "metadata": {},
     "output_type": "execute_result"
    }
   ],
   "source": [
    "img.getInfo()"
   ]
  },
  {
   "cell_type": "code",
   "execution_count": 7,
   "metadata": {},
   "outputs": [
    {
     "ename": "IndexError",
     "evalue": "list index out of range",
     "output_type": "error",
     "traceback": [
      "\u001b[0;31m---------------------------------------------------------------------------\u001b[0m",
      "\u001b[0;31mIndexError\u001b[0m                                Traceback (most recent call last)",
      "\u001b[0;32m<ipython-input-7-355da2d19701>\u001b[0m in \u001b[0;36m<module>\u001b[0;34m\u001b[0m\n\u001b[1;32m      1\u001b[0m \u001b[0mr\u001b[0m \u001b[0;34m=\u001b[0m \u001b[0msendSql\u001b[0m\u001b[0;34m(\u001b[0m\u001b[0;34m'select the_geom from gadm36_adm1 where cartodb_id = (random()*250)::integer'\u001b[0m\u001b[0;34m)\u001b[0m\u001b[0;34m\u001b[0m\u001b[0m\n\u001b[0;32m----> 2\u001b[0;31m \u001b[0mgeom\u001b[0m \u001b[0;34m=\u001b[0m \u001b[0mshapely\u001b[0m\u001b[0;34m.\u001b[0m\u001b[0mwkb\u001b[0m\u001b[0;34m.\u001b[0m\u001b[0mloads\u001b[0m\u001b[0;34m(\u001b[0m\u001b[0mr\u001b[0m\u001b[0;34m[\u001b[0m\u001b[0;34m'rows'\u001b[0m\u001b[0;34m]\u001b[0m\u001b[0;34m[\u001b[0m\u001b[0;36m0\u001b[0m\u001b[0;34m]\u001b[0m\u001b[0;34m[\u001b[0m\u001b[0;34m'the_geom'\u001b[0m\u001b[0;34m]\u001b[0m\u001b[0;34m,\u001b[0m \u001b[0mhex\u001b[0m\u001b[0;34m=\u001b[0m\u001b[0;32mTrue\u001b[0m\u001b[0;34m)\u001b[0m\u001b[0;34m.\u001b[0m\u001b[0msimplify\u001b[0m\u001b[0;34m(\u001b[0m\u001b[0;36m.001\u001b[0m\u001b[0;34m)\u001b[0m\u001b[0;34m\u001b[0m\u001b[0m\n\u001b[0m\u001b[1;32m      3\u001b[0m \u001b[0mregion\u001b[0m \u001b[0;34m=\u001b[0m \u001b[0mee\u001b[0m\u001b[0;34m.\u001b[0m\u001b[0mGeometry\u001b[0m\u001b[0;34m(\u001b[0m\u001b[0mshapely\u001b[0m\u001b[0;34m.\u001b[0m\u001b[0mgeometry\u001b[0m\u001b[0;34m.\u001b[0m\u001b[0mmapping\u001b[0m\u001b[0;34m(\u001b[0m\u001b[0mgeom\u001b[0m\u001b[0;34m)\u001b[0m\u001b[0;34m)\u001b[0m\u001b[0;34m\u001b[0m\u001b[0m\n\u001b[1;32m      4\u001b[0m \u001b[0mgeom\u001b[0m\u001b[0;34m\u001b[0m\u001b[0m\n",
      "\u001b[0;31mIndexError\u001b[0m: list index out of range"
     ]
    }
   ],
   "source": [
    "r = sendSql('select the_geom from gadm36_adm1 where cartodb_id = (random()*250)::integer')\n",
    "geom = shapely.wkb.loads(r['rows'][0]['the_geom'], hex=True).simplify(.001)\n",
    "region = ee.Geometry(shapely.geometry.mapping(geom))\n",
    "geom"
   ]
  },
  {
   "cell_type": "code",
   "execution_count": null,
   "metadata": {
    "scrolled": true
   },
   "outputs": [],
   "source": [
    "stats = img.reduceRegion(reducer=ee.Reducer.frequencyHistogram(),\n",
    "                         geometry=region,\n",
    "                         maxPixels=1000,\n",
    "                         bestEffort=True\n",
    "                         ).getInfo()\n",
    "stats"
   ]
  },
  {
   "cell_type": "markdown",
   "metadata": {},
   "source": [
    "# Notes\n",
    "\n",
    "For query\n",
    " - simplify query geometry if necessary\n",
    " - use bestEffort and maxPixels for on-the-fly resampling of raster\n",
    "\n",
    "For constructing asset\n",
    " - cast to smaller memory size uint8 or uint16\n",
    " - resample to lower resolution if high res not necessary\n",
    " - project to equal-area if area matters"
   ]
  },
  {
   "cell_type": "code",
   "execution_count": null,
   "metadata": {},
   "outputs": [],
   "source": []
  }
 ],
 "metadata": {
  "kernelspec": {
   "display_name": "Python 3",
   "language": "python",
   "name": "python3"
  },
  "language_info": {
   "codemirror_mode": {
    "name": "ipython",
    "version": 3
   },
   "file_extension": ".py",
   "mimetype": "text/x-python",
   "name": "python",
   "nbconvert_exporter": "python",
   "pygments_lexer": "ipython3",
   "version": "3.7.0"
  }
 },
 "nbformat": 4,
 "nbformat_minor": 2
}
